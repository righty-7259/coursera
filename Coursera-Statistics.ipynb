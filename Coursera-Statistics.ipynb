{
 "cells": [
  {
   "cell_type": "code",
   "execution_count": null,
   "id": "7c97a5b2",
   "metadata": {},
   "outputs": [],
   "source": [
    "import numpy as np\n",
    "import pandas as pd\n",
    "import matplotlib.pyplot as plt\n",
    "import seaborn as sns\n",
    "from scipy.stats import ttest_ind, pearsonr\n",
    "from statsmodels.formula.api import ols\n",
    "import statsmodels.api as sm\n",
    "\n",
    "# Load the dataset\n",
    "data = pd.read_csv('housing_dataset.csv')\n",
    "\n",
    "# Question 1: T-test for median values of houses bounded by the Charles river or not\n",
    "river_houses = data[data['CHAS'] == 1]['MEDV']\n",
    "non_river_houses = data[data['CHAS'] == 0]['MEDV']\n",
    "t_stat, p_value = ttest_ind(river_houses, non_river_houses)\n",
    "print(f\"Question 1: T-Test Results\")\n",
    "print(f\"T-statistic: {t_stat}\")\n",
    "print(f\"P-value: {p_value}\\n\")\n",
    "\n",
    "# Question 2: Box plot comparing median values based on the proportion of owner-occupied units built before 1940\n",
    "data['proportion'] = pd.qcut(data['AGE'], q=4)\n",
    "plt.figure(figsize=(8, 6))\n",
    "sns.boxplot(x='proportion', y='MEDV', data=data)\n",
    "plt.xlabel('Proportion of Owner-occupied Units Built Before 1940')\n",
    "plt.ylabel('Median Value')\n",
    "plt.title('Median Values Based on Proportion of Owner-occupied Units Built Before 1940')\n",
    "plt.show()\n",
    "\n",
    "# Question 3: Scatter plot of Nitric oxide concentrations vs. proportion of non-retail business acres per town\n",
    "plt.figure(figsize=(8, 6))\n",
    "sns.scatterplot(x='INDUS', y='NOX', data=data)\n",
    "plt.xlabel('Proportion of Non-retail Business Acres per Town')\n",
    "plt.ylabel('Nitric Oxide Concentrations')\n",
    "plt.title('Nitric Oxide Concentrations vs. Proportion of Non-retail Business Acres per Town')\n",
    "plt.show()\n",
    "\n",
    "# Question 4: Regression analysis for weighted distance to employment centers vs. median value of owner-occupied homes\n",
    "model = ols('MEDV ~ DIS', data=data).fit()\n",
    "print(\"Question 4: Regression Analysis Results\")\n",
    "print(model.summary())\n",
    "\n",
    "# Plot regression line and data points\n",
    "plt.figure(figsize=(8, 6))\n",
    "sns.regplot(x='DIS', y='MEDV', data=data)\n",
    "plt.xlabel('Weighted Distance to Employment Centers')\n",
    "plt.ylabel('Median Value of Owner-occupied Homes')\n",
    "plt.title('Weighted Distance to Employment Centers vs. Median Value of Owner-occupied Homes')\n",
    "plt.show()\n"
   ]
  }
 ],
 "metadata": {
  "kernelspec": {
   "display_name": "Python 3 (ipykernel)",
   "language": "python",
   "name": "python3"
  },
  "language_info": {
   "codemirror_mode": {
    "name": "ipython",
    "version": 3
   },
   "file_extension": ".py",
   "mimetype": "text/x-python",
   "name": "python",
   "nbconvert_exporter": "python",
   "pygments_lexer": "ipython3",
   "version": "3.10.9"
  }
 },
 "nbformat": 4,
 "nbformat_minor": 5
}
